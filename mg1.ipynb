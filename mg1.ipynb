{
  "nbformat": 4,
  "nbformat_minor": 0,
  "metadata": {
    "colab": {
      "name": "mg1.ipynb",
      "provenance": [],
      "collapsed_sections": []
    },
    "kernelspec": {
      "display_name": "Python 3",
      "name": "python3"
    }
  },
  "cells": [
    {
      "cell_type": "code",
      "metadata": {
        "colab": {
          "base_uri": "https://localhost:8080/"
        },
        "id": "azk2L6xLFKeP",
        "outputId": "9997c2e2-5f40-4bc2-f910-fc54efee11bb"
      },
      "source": [
        "!pip install selenium\n",
        "!apt-get update # to update ubuntu to correctly run apt install\n",
        "!apt install chromium-chromedriver\n",
        "!cp /usr/lib/chromium-browser/chromedriver /usr/bin\n",
        "import sys\n",
        "sys.path.insert(0,'/usr/lib/chromium-browser/chromedriver')\n"
      ],
      "execution_count": null,
      "outputs": [
        {
          "output_type": "stream",
          "text": [
            "Collecting selenium\n",
            "\u001b[?25l  Downloading https://files.pythonhosted.org/packages/80/d6/4294f0b4bce4de0abf13e17190289f9d0613b0a44e5dd6a7f5ca98459853/selenium-3.141.0-py2.py3-none-any.whl (904kB)\n",
            "\u001b[K     |████████████████████████████████| 911kB 4.3MB/s \n",
            "\u001b[?25hRequirement already satisfied: urllib3 in /usr/local/lib/python3.6/dist-packages (from selenium) (1.24.3)\n",
            "Installing collected packages: selenium\n",
            "Successfully installed selenium-3.141.0\n",
            "Ign:1 https://developer.download.nvidia.com/compute/cuda/repos/ubuntu1804/x86_64  InRelease\n",
            "Get:2 http://ppa.launchpad.net/c2d4u.team/c2d4u4.0+/ubuntu bionic InRelease [15.9 kB]\n",
            "Ign:3 https://developer.download.nvidia.com/compute/machine-learning/repos/ubuntu1804/x86_64  InRelease\n",
            "Hit:4 https://developer.download.nvidia.com/compute/cuda/repos/ubuntu1804/x86_64  Release\n",
            "Hit:5 http://archive.ubuntu.com/ubuntu bionic InRelease\n",
            "Get:6 http://security.ubuntu.com/ubuntu bionic-security InRelease [88.7 kB]\n",
            "Get:7 https://cloud.r-project.org/bin/linux/ubuntu bionic-cran40/ InRelease [3,626 B]\n",
            "Get:8 https://developer.download.nvidia.com/compute/machine-learning/repos/ubuntu1804/x86_64  Release [564 B]\n",
            "Get:9 https://developer.download.nvidia.com/compute/machine-learning/repos/ubuntu1804/x86_64  Release.gpg [833 B]\n",
            "Get:10 http://archive.ubuntu.com/ubuntu bionic-updates InRelease [88.7 kB]\n",
            "Hit:11 http://ppa.launchpad.net/cran/libgit2/ubuntu bionic InRelease\n",
            "Get:13 http://archive.ubuntu.com/ubuntu bionic-backports InRelease [74.6 kB]\n",
            "Get:14 http://ppa.launchpad.net/graphics-drivers/ppa/ubuntu bionic InRelease [21.3 kB]\n",
            "Get:15 https://cloud.r-project.org/bin/linux/ubuntu bionic-cran40/ Packages [43.2 kB]\n",
            "Get:16 https://developer.download.nvidia.com/compute/machine-learning/repos/ubuntu1804/x86_64  Packages [66.5 kB]\n",
            "Get:17 http://ppa.launchpad.net/c2d4u.team/c2d4u4.0+/ubuntu bionic/main Sources [1,707 kB]\n",
            "Get:18 http://security.ubuntu.com/ubuntu bionic-security/universe amd64 Packages [1,376 kB]\n",
            "Get:19 http://archive.ubuntu.com/ubuntu bionic-updates/universe amd64 Packages [2,140 kB]\n",
            "Get:20 http://ppa.launchpad.net/c2d4u.team/c2d4u4.0+/ubuntu bionic/main amd64 Packages [874 kB]\n",
            "Get:21 http://security.ubuntu.com/ubuntu bionic-security/main amd64 Packages [1,869 kB]\n",
            "Get:22 http://security.ubuntu.com/ubuntu bionic-security/restricted amd64 Packages [261 kB]\n",
            "Get:23 http://archive.ubuntu.com/ubuntu bionic-updates/multiverse amd64 Packages [45.6 kB]\n",
            "Get:24 http://archive.ubuntu.com/ubuntu bionic-updates/main amd64 Packages [2,296 kB]\n",
            "Get:25 http://archive.ubuntu.com/ubuntu bionic-updates/restricted amd64 Packages [304 kB]\n",
            "Get:26 http://ppa.launchpad.net/graphics-drivers/ppa/ubuntu bionic/main amd64 Packages [49.2 kB]\n",
            "Fetched 11.3 MB in 3s (3,255 kB/s)\n",
            "Reading package lists... Done\n",
            "Reading package lists... Done\n",
            "Building dependency tree       \n",
            "Reading state information... Done\n",
            "The following additional packages will be installed:\n",
            "  chromium-browser chromium-browser-l10n chromium-codecs-ffmpeg-extra\n",
            "Suggested packages:\n",
            "  webaccounts-chromium-extension unity-chromium-extension adobe-flashplugin\n",
            "The following NEW packages will be installed:\n",
            "  chromium-browser chromium-browser-l10n chromium-chromedriver\n",
            "  chromium-codecs-ffmpeg-extra\n",
            "0 upgraded, 4 newly installed, 0 to remove and 39 not upgraded.\n",
            "Need to get 81.0 MB of archives.\n",
            "After this operation, 273 MB of additional disk space will be used.\n",
            "Get:1 http://archive.ubuntu.com/ubuntu bionic-updates/universe amd64 chromium-codecs-ffmpeg-extra amd64 87.0.4280.66-0ubuntu0.18.04.1 [1,122 kB]\n",
            "Get:2 http://archive.ubuntu.com/ubuntu bionic-updates/universe amd64 chromium-browser amd64 87.0.4280.66-0ubuntu0.18.04.1 [71.7 MB]\n",
            "Get:3 http://archive.ubuntu.com/ubuntu bionic-updates/universe amd64 chromium-browser-l10n all 87.0.4280.66-0ubuntu0.18.04.1 [3,716 kB]\n",
            "Get:4 http://archive.ubuntu.com/ubuntu bionic-updates/universe amd64 chromium-chromedriver amd64 87.0.4280.66-0ubuntu0.18.04.1 [4,488 kB]\n",
            "Fetched 81.0 MB in 3s (23.7 MB/s)\n",
            "Selecting previously unselected package chromium-codecs-ffmpeg-extra.\n",
            "(Reading database ... 145483 files and directories currently installed.)\n",
            "Preparing to unpack .../chromium-codecs-ffmpeg-extra_87.0.4280.66-0ubuntu0.18.04.1_amd64.deb ...\n",
            "Unpacking chromium-codecs-ffmpeg-extra (87.0.4280.66-0ubuntu0.18.04.1) ...\n",
            "Selecting previously unselected package chromium-browser.\n",
            "Preparing to unpack .../chromium-browser_87.0.4280.66-0ubuntu0.18.04.1_amd64.deb ...\n",
            "Unpacking chromium-browser (87.0.4280.66-0ubuntu0.18.04.1) ...\n",
            "Selecting previously unselected package chromium-browser-l10n.\n",
            "Preparing to unpack .../chromium-browser-l10n_87.0.4280.66-0ubuntu0.18.04.1_all.deb ...\n",
            "Unpacking chromium-browser-l10n (87.0.4280.66-0ubuntu0.18.04.1) ...\n",
            "Selecting previously unselected package chromium-chromedriver.\n",
            "Preparing to unpack .../chromium-chromedriver_87.0.4280.66-0ubuntu0.18.04.1_amd64.deb ...\n",
            "Unpacking chromium-chromedriver (87.0.4280.66-0ubuntu0.18.04.1) ...\n",
            "Setting up chromium-codecs-ffmpeg-extra (87.0.4280.66-0ubuntu0.18.04.1) ...\n",
            "Setting up chromium-browser (87.0.4280.66-0ubuntu0.18.04.1) ...\n",
            "update-alternatives: using /usr/bin/chromium-browser to provide /usr/bin/x-www-browser (x-www-browser) in auto mode\n",
            "update-alternatives: using /usr/bin/chromium-browser to provide /usr/bin/gnome-www-browser (gnome-www-browser) in auto mode\n",
            "Setting up chromium-chromedriver (87.0.4280.66-0ubuntu0.18.04.1) ...\n",
            "Setting up chromium-browser-l10n (87.0.4280.66-0ubuntu0.18.04.1) ...\n",
            "Processing triggers for hicolor-icon-theme (0.17-2) ...\n",
            "Processing triggers for mime-support (3.60ubuntu1) ...\n",
            "Processing triggers for man-db (2.8.3-2ubuntu0.1) ...\n",
            "cp: '/usr/lib/chromium-browser/chromedriver' and '/usr/bin/chromedriver' are the same file\n"
          ],
          "name": "stdout"
        }
      ]
    },
    {
      "cell_type": "code",
      "metadata": {
        "id": "F4EzcTGf09Dh"
      },
      "source": [
        ""
      ],
      "execution_count": null,
      "outputs": []
    },
    {
      "cell_type": "code",
      "metadata": {
        "colab": {
          "base_uri": "https://localhost:8080/",
          "height": 49
        },
        "id": "H-GDm3MPxNge",
        "outputId": "d29cd58d-4c36-4140-e924-5b36c7db03c8"
      },
      "source": [
        "import pandas as pd\n",
        "dfm = pd.DataFrame(columns=['Medicine','Composition','Price','Packaging','Manufacturer','is precription required','Available'])\n",
        "dfm"
      ],
      "execution_count": null,
      "outputs": [
        {
          "output_type": "execute_result",
          "data": {
            "text/html": [
              "<div>\n",
              "<style scoped>\n",
              "    .dataframe tbody tr th:only-of-type {\n",
              "        vertical-align: middle;\n",
              "    }\n",
              "\n",
              "    .dataframe tbody tr th {\n",
              "        vertical-align: top;\n",
              "    }\n",
              "\n",
              "    .dataframe thead th {\n",
              "        text-align: right;\n",
              "    }\n",
              "</style>\n",
              "<table border=\"1\" class=\"dataframe\">\n",
              "  <thead>\n",
              "    <tr style=\"text-align: right;\">\n",
              "      <th></th>\n",
              "      <th>Medicine</th>\n",
              "      <th>Composition</th>\n",
              "      <th>Price</th>\n",
              "      <th>Packaging</th>\n",
              "      <th>Manufacturer</th>\n",
              "      <th>is precription required</th>\n",
              "      <th>Available</th>\n",
              "    </tr>\n",
              "  </thead>\n",
              "  <tbody>\n",
              "  </tbody>\n",
              "</table>\n",
              "</div>"
            ],
            "text/plain": [
              "Empty DataFrame\n",
              "Columns: [Medicine, Composition, Price, Packaging, Manufacturer, is precription required, Available]\n",
              "Index: []"
            ]
          },
          "metadata": {
            "tags": []
          },
          "execution_count": 8
        }
      ]
    },
    {
      "cell_type": "code",
      "metadata": {
        "id": "s69ZO0aYCPoD"
      },
      "source": [
        ""
      ],
      "execution_count": null,
      "outputs": []
    },
    {
      "cell_type": "code",
      "metadata": {
        "colab": {
          "base_uri": "https://localhost:8080/"
        },
        "id": "mRiPQyFaLGX0",
        "outputId": "93aad038-6c37-4214-ff53-b27c1f1de372"
      },
      "source": [
        "from selenium import webdriver\n",
        "chrome_options = webdriver.ChromeOptions()\n",
        "chrome_options.add_argument('--headless')\n",
        "chrome_options.add_argument('--no-sandbox')\n",
        "chrome_options.add_argument('--disable-dev-shm-usage')\n",
        "wd = webdriver.Chrome('chromedriver',chrome_options=chrome_options)\n",
        "driver1 =webdriver.Chrome('chromedriver',chrome_options=chrome_options)\n",
        "\n",
        "driver =webdriver.Chrome('chromedriver',chrome_options=chrome_options)"
      ],
      "execution_count": null,
      "outputs": [
        {
          "output_type": "stream",
          "text": [
            "/usr/local/lib/python3.6/dist-packages/ipykernel_launcher.py:6: DeprecationWarning: use options instead of chrome_options\n",
            "  \n",
            "/usr/local/lib/python3.6/dist-packages/ipykernel_launcher.py:7: DeprecationWarning: use options instead of chrome_options\n",
            "  import sys\n",
            "/usr/local/lib/python3.6/dist-packages/ipykernel_launcher.py:9: DeprecationWarning: use options instead of chrome_options\n",
            "  if __name__ == '__main__':\n"
          ],
          "name": "stderr"
        }
      ]
    },
    {
      "cell_type": "code",
      "metadata": {
        "colab": {
          "base_uri": "https://localhost:8080/",
          "height": 49
        },
        "id": "W2f9mRs8QFdX",
        "outputId": "224055da-7b30-476e-abd4-11a5611dc792"
      },
      "source": [
        "import pandas as pd\n",
        "dfm = pd.DataFrame(columns=['Medicine','MRP','is precription required','Packaging','Manufacturer','Composition','Available',\"type\"])\n",
        "dfm"
      ],
      "execution_count": null,
      "outputs": [
        {
          "output_type": "execute_result",
          "data": {
            "text/html": [
              "<div>\n",
              "<style scoped>\n",
              "    .dataframe tbody tr th:only-of-type {\n",
              "        vertical-align: middle;\n",
              "    }\n",
              "\n",
              "    .dataframe tbody tr th {\n",
              "        vertical-align: top;\n",
              "    }\n",
              "\n",
              "    .dataframe thead th {\n",
              "        text-align: right;\n",
              "    }\n",
              "</style>\n",
              "<table border=\"1\" class=\"dataframe\">\n",
              "  <thead>\n",
              "    <tr style=\"text-align: right;\">\n",
              "      <th></th>\n",
              "      <th>Medicine</th>\n",
              "      <th>MRP</th>\n",
              "      <th>is precription required</th>\n",
              "      <th>Packaging</th>\n",
              "      <th>Manufacturer</th>\n",
              "      <th>Composition</th>\n",
              "      <th>Available</th>\n",
              "      <th>type</th>\n",
              "    </tr>\n",
              "  </thead>\n",
              "  <tbody>\n",
              "  </tbody>\n",
              "</table>\n",
              "</div>"
            ],
            "text/plain": [
              "Empty DataFrame\n",
              "Columns: [Medicine, MRP, is precription required, Packaging, Manufacturer, Composition, Available, type]\n",
              "Index: []"
            ]
          },
          "metadata": {
            "tags": []
          },
          "execution_count": 10
        }
      ]
    },
    {
      "cell_type": "code",
      "metadata": {
        "colab": {
          "base_uri": "https://localhost:8080/"
        },
        "id": "ZF4nTsByaa85",
        "outputId": "c103a4e8-b89b-4c79-e012-33114c0b7ad9"
      },
      "source": [
        "for i in range(38,450):\n",
        "    print(i)\n",
        "    search=\"https://www.1mg.com/drugs-therapeutic-classes/\"\n",
        "    var=f\"drug-class-{i}\"\n",
        "    url=search+var\n",
        "    driver.get(url)\n",
        "    \n",
        "    \n",
        "    list=[]\n",
        "    medicine=driver.find_elements_by_css_selector(\"[class='style__flex-1___A_qoj']\")\n",
        "    for l in range(len(medicine)):\n",
        "        if \"Prescription Required\" in medicine[l].text.split(\"\\n\"):\n",
        "            list.append(medicine[l].text.split(\"\\n\"))\n",
        "        else:\n",
        "            list.append(medicine[l].text.split(\"\\n\")[:2]+[\"Not Required\"]+medicine[l].text.split(\"\\n\")[2:])\n",
        "        \n",
        "        \n",
        "\n",
        "\n",
        "\n",
        "    page=driver.find_elements_by_css_selector(\"[aria-label]\")\n",
        "    if page != []:\n",
        "        page=int(page[-1].text)\n",
        "        print(\"pages=\",page)\n",
        "        \n",
        "        for j in range(2,page+1):\n",
        "            url_page=f\"{url}?page={j}\"\n",
        "            driver.get(url_page)\n",
        "            medicine_page=driver.find_elements_by_css_selector(\"[class='style__flex-1___A_qoj']\")\n",
        "            for k in range(len(medicine_page)):\n",
        "                try:\n",
        "                    if \"Prescription Required\" in medicine_page[k].text.split(\"\\n\"):\n",
        "                        list.append(medicine_page[k].text.split(\"\\n\"))\n",
        "                    else:\n",
        "                        list.append(medicine_page[k].text.split(\"\\n\")[:2]+[\"Not Required\"]+medicine_page[k].text.split(\"\\n\")[2:])\n",
        "                except:\n",
        "                    pass\n",
        "                    \n",
        "                        \n",
        "            \n",
        "            \n",
        "                    \n",
        "\n",
        "    df=pd.DataFrame(list,columns=['Medicine','MRP','is precription required','Packaging','Manufacturer','Composition','Available'])\n",
        "    df[\"type\"]=driver.title.replace(\"Here you can browse drugs related to \",\"\").replace(\"in one place\",\"\")\n",
        "    dfm=dfm.append(df,ignore_index=True)\n",
        "    "
      ],
      "execution_count": null,
      "outputs": [
        {
          "output_type": "stream",
          "text": [
            "38\n",
            "39\n",
            "40\n",
            "41\n",
            "pages= 4\n",
            "42\n",
            "43\n",
            "44\n",
            "pages= 24\n",
            "45\n",
            "pages= 12\n",
            "46\n",
            "47\n",
            "pages= 12\n",
            "48\n",
            "49\n",
            "pages= 2\n",
            "50\n",
            "pages= 148\n",
            "51\n",
            "pages= 2\n",
            "52\n",
            "pages= 163\n",
            "53\n",
            "pages= 10\n",
            "54\n",
            "55\n",
            "56\n",
            "pages= 4\n",
            "57\n",
            "58\n",
            "pages= 42\n",
            "59\n",
            "pages= 6\n",
            "60\n",
            "pages= 3\n",
            "61\n",
            "62\n",
            "pages= 11\n",
            "63\n",
            "pages= 3\n",
            "64\n",
            "pages= 9\n",
            "65\n",
            "pages= 16\n",
            "66\n",
            "pages= 3\n",
            "67\n",
            "68\n",
            "pages= 3\n",
            "69\n",
            "pages= 8\n"
          ],
          "name": "stdout"
        }
      ]
    },
    {
      "cell_type": "code",
      "metadata": {
        "id": "wxoo0z644zsK",
        "colab": {
          "base_uri": "https://localhost:8080/",
          "height": 623
        },
        "outputId": "1531ca43-98cb-4481-83f6-cca0d03121e7"
      },
      "source": [
        "dfm\n"
      ],
      "execution_count": null,
      "outputs": [
        {
          "output_type": "execute_result",
          "data": {
            "text/html": [
              "<div>\n",
              "<style scoped>\n",
              "    .dataframe tbody tr th:only-of-type {\n",
              "        vertical-align: middle;\n",
              "    }\n",
              "\n",
              "    .dataframe tbody tr th {\n",
              "        vertical-align: top;\n",
              "    }\n",
              "\n",
              "    .dataframe thead th {\n",
              "        text-align: right;\n",
              "    }\n",
              "</style>\n",
              "<table border=\"1\" class=\"dataframe\">\n",
              "  <thead>\n",
              "    <tr style=\"text-align: right;\">\n",
              "      <th></th>\n",
              "      <th>Medicine</th>\n",
              "      <th>MRP</th>\n",
              "      <th>is precription required</th>\n",
              "      <th>Packaging</th>\n",
              "      <th>Manufacturer</th>\n",
              "      <th>Composition</th>\n",
              "      <th>Available</th>\n",
              "      <th>type</th>\n",
              "    </tr>\n",
              "  </thead>\n",
              "  <tbody>\n",
              "    <tr>\n",
              "      <th>0</th>\n",
              "      <td>Insuman 100IU Solution for Injection</td>\n",
              "      <td>MRP₹250.8</td>\n",
              "      <td>Prescription Required</td>\n",
              "      <td>disposable pen of 3 ml Solution for Injection</td>\n",
              "      <td>Sanofi India Ltd</td>\n",
              "      <td>HUMAN PREMIX (100IU)</td>\n",
              "      <td>ADD</td>\n",
              "      <td>HUMAN INSULIN PREMIX</td>\n",
              "    </tr>\n",
              "    <tr>\n",
              "      <th>1</th>\n",
              "      <td>Moiz XL Cream</td>\n",
              "      <td>MRP₹700</td>\n",
              "      <td>Prescription Required</td>\n",
              "      <td>jar of 500 gm Cream</td>\n",
              "      <td>Glowderma Labs Pvt Ltd</td>\n",
              "      <td>Cetyl Alcohol (2% w/w)</td>\n",
              "      <td>ADD</td>\n",
              "      <td>EMOLLIENTS PROTECTIVES</td>\n",
              "    </tr>\n",
              "    <tr>\n",
              "      <th>2</th>\n",
              "      <td>Moiz XL Cream</td>\n",
              "      <td>MRP₹390</td>\n",
              "      <td>Prescription Required</td>\n",
              "      <td>jar of 200 gm Cream</td>\n",
              "      <td>Glowderma Labs Pvt Ltd</td>\n",
              "      <td>Cetyl Alcohol (2% w/w)</td>\n",
              "      <td>ADD</td>\n",
              "      <td>EMOLLIENTS PROTECTIVES</td>\n",
              "    </tr>\n",
              "    <tr>\n",
              "      <th>3</th>\n",
              "      <td>Cutivera Lotion</td>\n",
              "      <td>MRP₹82</td>\n",
              "      <td>Not Required</td>\n",
              "      <td>bottle of 50 ml Lotion</td>\n",
              "      <td>Canixa Life Sciences Pvt</td>\n",
              "      <td>Calamine (8% w/w)</td>\n",
              "      <td>ADD</td>\n",
              "      <td>EMOLLIENTS PROTECTIVES</td>\n",
              "    </tr>\n",
              "    <tr>\n",
              "      <th>4</th>\n",
              "      <td>Calanim Plus Lotion</td>\n",
              "      <td>MRP₹126</td>\n",
              "      <td>Prescription Required</td>\n",
              "      <td>tube of 50 gm Lotion</td>\n",
              "      <td>Nemus Pharmaceuticals Pvt Ltd</td>\n",
              "      <td>Calamine (8% w/v) + Aloe Vera (10% w/v) + Liqu...</td>\n",
              "      <td>NOT AVAILABLE</td>\n",
              "      <td>EMOLLIENTS PROTECTIVES</td>\n",
              "    </tr>\n",
              "    <tr>\n",
              "      <th>...</th>\n",
              "      <td>...</td>\n",
              "      <td>...</td>\n",
              "      <td>...</td>\n",
              "      <td>...</td>\n",
              "      <td>...</td>\n",
              "      <td>...</td>\n",
              "      <td>...</td>\n",
              "      <td>...</td>\n",
              "    </tr>\n",
              "    <tr>\n",
              "      <th>18652</th>\n",
              "      <td>Brutrax 1mg Tablet</td>\n",
              "      <td>MRP₹850</td>\n",
              "      <td>Prescription Required</td>\n",
              "      <td>strip of 10 tablets</td>\n",
              "      <td>Taj Pharma India Ltd</td>\n",
              "      <td>Anastrozole (1mg)</td>\n",
              "      <td>ADD</td>\n",
              "      <td>Page 8 - CYTOSTATIC HORMONE ANTAGONISTS</td>\n",
              "    </tr>\n",
              "    <tr>\n",
              "      <th>18653</th>\n",
              "      <td>Anashil 1mg Tablet</td>\n",
              "      <td>MRP₹550</td>\n",
              "      <td>Prescription Required</td>\n",
              "      <td>strip of 10 tablets</td>\n",
              "      <td>Raichem Lifesciences Pvt Ltd</td>\n",
              "      <td>Anastrozole (1mg)</td>\n",
              "      <td>NOT AVAILABLE</td>\n",
              "      <td>Page 8 - CYTOSTATIC HORMONE ANTAGONISTS</td>\n",
              "    </tr>\n",
              "    <tr>\n",
              "      <th>18654</th>\n",
              "      <td>HERLET 2.5MG TABLET</td>\n",
              "      <td>MRP₹167</td>\n",
              "      <td>Prescription Required</td>\n",
              "      <td>strip of 5 tablets</td>\n",
              "      <td>Zydus Cadila</td>\n",
              "      <td>Letrozole (2.5mg)</td>\n",
              "      <td>NOT AVAILABLE</td>\n",
              "      <td>Page 8 - CYTOSTATIC HORMONE ANTAGONISTS</td>\n",
              "    </tr>\n",
              "    <tr>\n",
              "      <th>18655</th>\n",
              "      <td>Guncef 50mg Tablet</td>\n",
              "      <td>MRP₹440</td>\n",
              "      <td>Prescription Required</td>\n",
              "      <td>strip of 10 tablets</td>\n",
              "      <td>Oster Remedies</td>\n",
              "      <td>Bicalutamide (50mg)</td>\n",
              "      <td>ADD</td>\n",
              "      <td>Page 8 - CYTOSTATIC HORMONE ANTAGONISTS</td>\n",
              "    </tr>\n",
              "    <tr>\n",
              "      <th>18656</th>\n",
              "      <td>Satzole 2.5mg Tablet</td>\n",
              "      <td>MRP₹210</td>\n",
              "      <td>Prescription Required</td>\n",
              "      <td>strip of 10 tablets</td>\n",
              "      <td>Saturn Formulations Pvt Ltd</td>\n",
              "      <td>Letrozole (2.5mg)</td>\n",
              "      <td>ADD</td>\n",
              "      <td>Page 8 - CYTOSTATIC HORMONE ANTAGONISTS</td>\n",
              "    </tr>\n",
              "  </tbody>\n",
              "</table>\n",
              "<p>18657 rows × 8 columns</p>\n",
              "</div>"
            ],
            "text/plain": [
              "                                   Medicine  ...                                      type\n",
              "0      Insuman 100IU Solution for Injection  ...                     HUMAN INSULIN PREMIX \n",
              "1                             Moiz XL Cream  ...                   EMOLLIENTS PROTECTIVES \n",
              "2                             Moiz XL Cream  ...                   EMOLLIENTS PROTECTIVES \n",
              "3                           Cutivera Lotion  ...                   EMOLLIENTS PROTECTIVES \n",
              "4                       Calanim Plus Lotion  ...                   EMOLLIENTS PROTECTIVES \n",
              "...                                     ...  ...                                       ...\n",
              "18652                    Brutrax 1mg Tablet  ...  Page 8 - CYTOSTATIC HORMONE ANTAGONISTS \n",
              "18653                    Anashil 1mg Tablet  ...  Page 8 - CYTOSTATIC HORMONE ANTAGONISTS \n",
              "18654                   HERLET 2.5MG TABLET  ...  Page 8 - CYTOSTATIC HORMONE ANTAGONISTS \n",
              "18655                    Guncef 50mg Tablet  ...  Page 8 - CYTOSTATIC HORMONE ANTAGONISTS \n",
              "18656                  Satzole 2.5mg Tablet  ...  Page 8 - CYTOSTATIC HORMONE ANTAGONISTS \n",
              "\n",
              "[18657 rows x 8 columns]"
            ]
          },
          "metadata": {
            "tags": []
          },
          "execution_count": 12
        }
      ]
    },
    {
      "cell_type": "code",
      "metadata": {
        "id": "z1in1c8n-MaB"
      },
      "source": [
        "dfm.to_csv('part1.csv', index = False)"
      ],
      "execution_count": null,
      "outputs": []
    },
    {
      "cell_type": "code",
      "metadata": {
        "id": "AP1alq57AgA6",
        "colab": {
          "base_uri": "https://localhost:8080/",
          "height": 17
        },
        "outputId": "2e38c6b9-39c9-45b0-e665-968286e8fd44"
      },
      "source": [
        "from google.colab import files\n",
        "dfm.to_csv('part1.csv') \n",
        "files.download('part1.csv')"
      ],
      "execution_count": null,
      "outputs": [
        {
          "output_type": "display_data",
          "data": {
            "application/javascript": [
              "\n",
              "    async function download(id, filename, size) {\n",
              "      if (!google.colab.kernel.accessAllowed) {\n",
              "        return;\n",
              "      }\n",
              "      const div = document.createElement('div');\n",
              "      const label = document.createElement('label');\n",
              "      label.textContent = `Downloading \"${filename}\": `;\n",
              "      div.appendChild(label);\n",
              "      const progress = document.createElement('progress');\n",
              "      progress.max = size;\n",
              "      div.appendChild(progress);\n",
              "      document.body.appendChild(div);\n",
              "\n",
              "      const buffers = [];\n",
              "      let downloaded = 0;\n",
              "\n",
              "      const channel = await google.colab.kernel.comms.open(id);\n",
              "      // Send a message to notify the kernel that we're ready.\n",
              "      channel.send({})\n",
              "\n",
              "      for await (const message of channel.messages) {\n",
              "        // Send a message to notify the kernel that we're ready.\n",
              "        channel.send({})\n",
              "        if (message.buffers) {\n",
              "          for (const buffer of message.buffers) {\n",
              "            buffers.push(buffer);\n",
              "            downloaded += buffer.byteLength;\n",
              "            progress.value = downloaded;\n",
              "          }\n",
              "        }\n",
              "      }\n",
              "      const blob = new Blob(buffers, {type: 'application/binary'});\n",
              "      const a = document.createElement('a');\n",
              "      a.href = window.URL.createObjectURL(blob);\n",
              "      a.download = filename;\n",
              "      div.appendChild(a);\n",
              "      a.click();\n",
              "      div.remove();\n",
              "    }\n",
              "  "
            ],
            "text/plain": [
              "<IPython.core.display.Javascript object>"
            ]
          },
          "metadata": {
            "tags": []
          }
        },
        {
          "output_type": "display_data",
          "data": {
            "application/javascript": [
              "download(\"download_aa50490a-5aae-4db3-8ac9-b9a23d2de6b0\", \"part1.csv\", 3511857)"
            ],
            "text/plain": [
              "<IPython.core.display.Javascript object>"
            ]
          },
          "metadata": {
            "tags": []
          }
        }
      ]
    },
    {
      "cell_type": "code",
      "metadata": {
        "id": "j08WTHSFcPC7"
      },
      "source": [
        "dfm"
      ],
      "execution_count": null,
      "outputs": []
    },
    {
      "cell_type": "code",
      "metadata": {
        "id": "qAdVSRZUcxcS"
      },
      "source": [
        ""
      ],
      "execution_count": null,
      "outputs": []
    },
    {
      "cell_type": "code",
      "metadata": {
        "id": "pm1lDDXkfpGy"
      },
      "source": [
        ""
      ],
      "execution_count": null,
      "outputs": []
    }
  ]
}